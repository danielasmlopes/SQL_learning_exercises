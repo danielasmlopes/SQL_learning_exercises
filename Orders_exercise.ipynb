{
 "cells": [
  {
   "cell_type": "markdown",
   "metadata": {},
   "source": [
    "Create the database \"orders\""
   ]
  },
  {
   "cell_type": "code",
   "execution_count": null,
   "metadata": {},
   "outputs": [],
   "source": [
    "create database orders;"
   ]
  },
  {
   "cell_type": "markdown",
   "metadata": {},
   "source": [
    "Create the following tables, making sure to define the data types according to what you consider most suitable for the possible values of the fields in the tables below, as well as the relationships with their respective foreign keys.\n",
    "\n",
    "Insert three records of your choice into each table."
   ]
  },
  {
   "cell_type": "code",
   "execution_count": null,
   "metadata": {},
   "outputs": [],
   "source": [
    "create table client(\n",
    "codclient int identity(1,1),\n",
    "name varchar(50),\n",
    "address varchar(50),\n",
    "phone varchar(9),\n",
    "constraint pk_codclient primary key (codclient)\n",
    ");\n",
    "\n",
    "insert into cliente(name,address,phone) values \n",
    "('ana','rua das flores',918907089),\n",
    "('joana', 'av. liberdade', 936758484),\n",
    "('rui', 'travessa santos',924564747)\n",
    "select * from client;\n",
    "\n",
    "create table orders(\n",
    "codorder int identity(1,1),\n",
    "codclient int,\n",
    "date date,\n",
    "constraint pk_orders Primary Key (codorder),\n",
    "Foreign Key (codclient) References client(codclient)\n",
    ");\n",
    "\n",
    "insert into orders(codclient,date) values\n",
    "(1,CONVERT(datetime,'15/02/2022 20:00:00',103)),\n",
    "(2,CONVERT(datetime,'15/02/2022 21:00:00',103)),\n",
    "(3,CONVERT(datetime,'15/02/2022 22:00:00',103))\n",
    "select * from orders;\n",
    "\n",
    "create table products(\n",
    "codproduct int identity(1,1),\n",
    "description varchar(100),\n",
    "price float,\n",
    "obs varchar(50),\n",
    "constraint pk_codproducts primary key (codproduct)\n",
    ");\n",
    "\n",
    "create table order_item(\n",
    "codorder int,\n",
    "codproduct int,\n",
    "date date,\n",
    "qt int,\n",
    "constraint PK_order_item Primary Key (codorder,codproduct),\n",
    "Foreign Key (codorder) References orders(codorder),\n",
    "Foreign Key (codproduct) References products(codproduct)\n",
    ");\n",
    "\n",
    "insert into order_item(codorder,codproduct,date,qt) values\n",
    "(1,1,CONVERT(datetime,'15/02/2022 20:00:00',103),2),\n",
    "(2,1,CONVERT(datetime,'15/02/2022 20:00:00',103),20),\n",
    "(3,2,CONVERT(datetime,'15/02/2022 20:00:00',103),1)\n",
    "select * from order_item;\n"
   ]
  },
  {
   "cell_type": "markdown",
   "metadata": {},
   "source": [
    "Create the following SQL queries for the database \"Orders\""
   ]
  },
  {
   "cell_type": "markdown",
   "metadata": {},
   "source": [
    "a. Show customers from the Customers table whose address is \"Solar do Monte,\" or any other address of your choice, sorted by name."
   ]
  },
  {
   "cell_type": "code",
   "execution_count": null,
   "metadata": {},
   "outputs": [],
   "source": [
    "select c.name, c.address\n",
    "from client c\n",
    "where c.address='rua das flores'\n",
    "order by c.name"
   ]
  },
  {
   "cell_type": "markdown",
   "metadata": {},
   "source": [
    "b. Show the product from the Products table whose description is \"hammer,\" or any other product description of your choice, sorted by price."
   ]
  },
  {
   "cell_type": "code",
   "execution_count": null,
   "metadata": {},
   "outputs": [],
   "source": [
    "select price, description\n",
    "from product\n",
    "where description like 'martelo'\n",
    "order by price"
   ]
  },
  {
   "cell_type": "markdown",
   "metadata": {},
   "source": [
    "c. Display all the order dates for orders placed by the customer \"Fonseca,\" or any other customer name of your choice."
   ]
  },
  {
   "cell_type": "code",
   "execution_count": null,
   "metadata": {},
   "outputs": [],
   "source": [
    "select o.date as Date_Orders\n",
    "from orders o\n",
    "where o.codclient=2"
   ]
  },
  {
   "cell_type": "markdown",
   "metadata": {},
   "source": [
    "d. Show how many products the customer \"Silva,\" or any other customer of your choice, has ordered, grouped by the product description."
   ]
  },
  {
   "cell_type": "code",
   "execution_count": null,
   "metadata": {},
   "outputs": [],
   "source": [
    "select count(p.codproduct) as quantity_products, p.description\n",
    "from order_item i\n",
    "inner join orders o on i.codorder=o.orders\n",
    "inner join products p on i.codproduct=p.codproduct\n",
    "where o.codclient=3\n",
    "group by p.description"
   ]
  },
  {
   "cell_type": "markdown",
   "metadata": {},
   "source": [
    "e. Show the total amount paid for each order."
   ]
  },
  {
   "cell_type": "code",
   "execution_count": null,
   "metadata": {},
   "outputs": [],
   "source": [
    "select o.orders as Order, sum(i.qt*p.price) as total\n",
    "from order_item i\n",
    "inner join product p\n",
    "on o.codproduct=p.codproduct\n",
    "group by i.codorder\n"
   ]
  }
 ],
 "metadata": {
  "language_info": {
   "name": "python"
  },
  "orig_nbformat": 4
 },
 "nbformat": 4,
 "nbformat_minor": 2
}
