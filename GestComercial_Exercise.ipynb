{
    "metadata": {
        "kernelspec": {
            "name": "SQL",
            "display_name": "SQL",
            "language": "sql"
        },
        "language_info": {
            "name": "sql",
            "version": ""
        }
    },
    "nbformat_minor": 2,
    "nbformat": 4,
    "cells": [
        {
            "cell_type": "markdown",
            "source": [
                "<span style=\"color: rgb(55, 65, 81); font-family: Söhne, ui-sans-serif, system-ui, -apple-system, &quot;Segoe UI&quot;, Roboto, Ubuntu, Cantarell, &quot;Noto Sans&quot;, sans-serif, &quot;Helvetica Neue&quot;, Arial, &quot;Apple Color Emoji&quot;, &quot;Segoe UI Emoji&quot;, &quot;Segoe UI Symbol&quot;, &quot;Noto Color Emoji&quot;; font-size: 16px; white-space: pre-wrap; background-color: rgb(247, 247, 248);\">Create a database called GestComercial.</span>\n",
                "\n",
                "<span style=\"color: rgb(55, 65, 81); font-family: Söhne, ui-sans-serif, system-ui, -apple-system, &quot;Segoe UI&quot;, Roboto, Ubuntu, Cantarell, &quot;Noto Sans&quot;, sans-serif, &quot;Helvetica Neue&quot;, Arial, &quot;Apple Color Emoji&quot;, &quot;Segoe UI Emoji&quot;, &quot;Segoe UI Symbol&quot;, &quot;Noto Color Emoji&quot;; font-size: 16px; white-space: pre-wrap; background-color: rgb(247, 247, 248);\">Create the following tables with their respective characteristics:</span>"
            ],
            "metadata": {
                "azdata_cell_guid": "3dc12504-fe79-4d94-9096-866ddd528a0b"
            },
            "attachments": {}
        },
        {
            "cell_type": "markdown",
            "source": [
                "**Customer**\r\n",
                "\r\n",
                "| Field | Constraint | \r\n",
                "| --- | --- | \r\n",
                "| id | Integer, auto-generated field. (Primary Key) | \r\n",
                "| name | Allows 50 characters and is mandatory. |\r\n",
                "| address | Allows 250 characters. |\r\n",
                "| state | Bit (only allows values 1 or 0) |\r\n",
                "\r\n",
                "**Product**\r\n",
                "\r\n",
                "| Field | Constraint | \r\n",
                "| --- | --- | \r\n",
                "| id | Integer, auto-generated field. (Primary Key) | \r\n",
                "| description| Allows 100 characters and is mandatory. |\r\n",
                "| price| Decimal number with a maximum of 10 integer digits and 2 decimal places. |\r\n",
                "\r\n",
                "**Sales** \r\n",
                "\r\n",
                "| Field | Constraint | \r\n",
                "| --- | --- | \r\n",
                "| prod | Integer (Primary Key and Foreign Key) |\r\n",
                "| cli | Integer (Primary Key and Foreign Key) |\r\n",
                "| date | Date and Time (Primary Key) |\r\n",
                "| quantity | Integer, representing the quantity. |"
            ],
            "metadata": {
                "azdata_cell_guid": "a13f795a-aa34-41e0-b0dd-67a10b8f9210"
            },
            "attachments": {}
        },
        {
            "cell_type": "code",
            "source": [
                "create database GestComercial;\r\n",
                "\r\n",
                "create table customer(\r\n",
                "idcustomer int identity(1,1),\r\n",
                "name varchar(50),\r\n",
                "address varchar(250),\r\n",
                "state bit,\r\n",
                "constraint PK_customer Primary Key (idcustomer)\r\n",
                ");\r\n",
                "\r\n",
                "create table product(\r\n",
                "idproduct int identity(1,1),\r\n",
                "description varchar(100),\r\n",
                "price decimal(10,2),\r\n",
                "constraint PK_product Primary Key (idproduct)\r\n",
                ");\r\n",
                "\r\n",
                "create table sales(\r\n",
                "idproduct int,\r\n",
                "idcustomer int,\r\n",
                "date date,\r\n",
                "quantity int,\r\n",
                "constraint PK_sales Primary Key (idproduct,idcustomer,data),\r\n",
                "Foreign Key (idproduct) References produto(idproduct),\r\n",
                "Foreign Key (idcustomer) References cliente(idcustomer)\r\n",
                ");"
            ],
            "metadata": {
                "azdata_cell_guid": "9983eaef-7f13-4f27-9de7-2b15435a9577",
                "language": "sql"
            },
            "outputs": [],
            "execution_count": null
        },
        {
            "cell_type": "markdown",
            "source": [
                "<span style=\"color: rgb(55, 65, 81); font-family: Söhne, ui-sans-serif, system-ui, -apple-system, &quot;Segoe UI&quot;, Roboto, Ubuntu, Cantarell, &quot;Noto Sans&quot;, sans-serif, &quot;Helvetica Neue&quot;, Arial, &quot;Apple Color Emoji&quot;, &quot;Segoe UI Emoji&quot;, &quot;Segoe UI Symbol&quot;, &quot;Noto Color Emoji&quot;; font-size: 16px; white-space: pre-wrap; background-color: rgb(247, 247, 248);\">Insert the following values into the table:</span>\n",
                "\n",
                "<span style=\"color: rgb(55, 65, 81); font-family: Söhne, ui-sans-serif, system-ui, -apple-system, &quot;Segoe UI&quot;, Roboto, Ubuntu, Cantarell, &quot;Noto Sans&quot;, sans-serif, &quot;Helvetica Neue&quot;, Arial, &quot;Apple Color Emoji&quot;, &quot;Segoe UI Emoji&quot;, &quot;Segoe UI Symbol&quot;, &quot;Noto Color Emoji&quot;; font-size: 16px; white-space: pre-wrap; background-color: rgb(247, 247, 248);\"><br></span>\n",
                "\n",
                "**Customer**\n",
                "\n",
                "| idcustomer | name | address | state |\n",
                "| --- | --- | --- | --- |\n",
                "| 1 | Helena Monteiro | Perafita – Freixieiro | 1 |\n",
                "| 2 | Raul Simas | Palmela | 0 |\n",
                "\n",
                "**Product**\n",
                "\n",
                "| id | description | price |\n",
                "| --- | --- | --- |\n",
                "| 1 | Rato Logitec XPTO 1 | 10 | \n",
                "| 2 | Monitor Sony Vaio XPTO  | 100 |\n",
                "\n",
                "**Sales**\n",
                "\n",
                "| idcustomer | idproduct | quantity | date |\n",
                "| --- | --- | --- | --- |\n",
                "| 1 | 1 | 1 | 05-04-2012 |\n",
                "| 2 | 1 | 5 | 06-04-2012 |\n",
                ""
            ],
            "metadata": {
                "language": "sql",
                "azdata_cell_guid": "1d18aceb-1b2e-4303-8b5e-cc3bcba82cc0"
            },
            "attachments": {}
        },
        {
            "cell_type": "code",
            "source": [
                "insert into customer(name,address,state) values \r\n",
                "('Helena Monteiro','Perafita � Freixieiro',1),\r\n",
                "('Raul Simas','Palmela',0)\r\n",
                "select * from customer;"
            ],
            "metadata": {
                "language": "sql",
                "azdata_cell_guid": "89693754-8001-4fb9-a14e-d24eafb786ba",
                "tags": []
            },
            "outputs": [],
            "execution_count": null
        },
        {
            "cell_type": "code",
            "source": [
                "insert into product(description,price) values\r\n",
                "('Rato Logitec XPTO 1',10),\r\n",
                "('Monitor Sony Vaio XPTO',100)\r\n",
                "select * from product;"
            ],
            "metadata": {
                "language": "sql",
                "azdata_cell_guid": "e70c4491-9a94-4fae-ba51-8e8b9252ce6f"
            },
            "outputs": [],
            "execution_count": null
        },
        {
            "cell_type": "code",
            "source": [
                "insert into sales(idcustomer,idproduct,quantity,date) values\r\n",
                "(1,1,1,convert(datetime,'05/04/2012'),103),\r\n",
                "(2,1,5,convert(datetime,'06/04/2012'),103)\r\n",
                "select * from sales;"
            ],
            "metadata": {
                "language": "sql",
                "azdata_cell_guid": "f36bd42a-a81b-40ba-b8de-e7e909dea403",
                "tags": []
            },
            "outputs": [],
            "execution_count": null
        },
        {
            "cell_type": "markdown",
            "source": [
                "<span style=\"color: rgb(55, 65, 81); font-family: Söhne, ui-sans-serif, system-ui, -apple-system, &quot;Segoe UI&quot;, Roboto, Ubuntu, Cantarell, &quot;Noto Sans&quot;, sans-serif, &quot;Helvetica Neue&quot;, Arial, &quot;Apple Color Emoji&quot;, &quot;Segoe UI Emoji&quot;, &quot;Segoe UI Symbol&quot;, &quot;Noto Color Emoji&quot;; font-size: 16px; white-space: pre-wrap; background-color: rgb(247, 247, 248);\">Make the following data changes</span>\n",
                "\n",
                "<span style=\"background-color: rgb(247, 247, 248); color: rgb(55, 65, 81); font-family: Söhne, ui-sans-serif, system-ui, -apple-system, &quot;Segoe UI&quot;, Roboto, Ubuntu, Cantarell, &quot;Noto Sans&quot;, sans-serif, &quot;Helvetica Neue&quot;, Arial, &quot;Apple Color Emoji&quot;, &quot;Segoe UI Emoji&quot;, &quot;Segoe UI Symbol&quot;, &quot;Noto Color Emoji&quot;; font-size: 16px; white-space: pre-wrap;\">a. In sale number 2, change the quantity to 10.</span>"
            ],
            "metadata": {
                "language": "sql",
                "azdata_cell_guid": "2ce44cf1-948c-4ecc-ac63-3d46dff68d61"
            },
            "attachments": {}
        },
        {
            "cell_type": "code",
            "source": [
                "update sales \r\n",
                "set quantity=10\r\n",
                "where idcustomer=2;"
            ],
            "metadata": {
                "language": "sql",
                "azdata_cell_guid": "a62c146f-a3c7-4788-9709-1c394407b7cd"
            },
            "outputs": [],
            "execution_count": null
        },
        {
            "cell_type": "markdown",
            "source": [
                "<span style=\"background-color: rgb(247, 247, 248); color: rgb(55, 65, 81); font-family: Söhne, ui-sans-serif, system-ui, -apple-system, &quot;Segoe UI&quot;, Roboto, Ubuntu, Cantarell, &quot;Noto Sans&quot;, sans-serif, &quot;Helvetica Neue&quot;, Arial, &quot;Apple Color Emoji&quot;, &quot;Segoe UI Emoji&quot;, &quot;Segoe UI Symbol&quot;, &quot;Noto Color Emoji&quot;; font-size: 16px; white-space: pre-wrap;\">b. Change Raul's address to Porto.</span>"
            ],
            "metadata": {
                "language": "sql",
                "azdata_cell_guid": "08f21eec-6b7a-418e-91d3-605e3d056540"
            },
            "attachments": {}
        },
        {
            "cell_type": "code",
            "source": [
                "update customer \r\n",
                "set address='Porto'\r\n",
                "where idcustomer=2 and idproduct=1 and date=convert(datetime,'05/04/2012'),103)"
            ],
            "metadata": {
                "language": "sql",
                "azdata_cell_guid": "e629b949-62de-4184-a01a-fad9ae46bdf2"
            },
            "outputs": [],
            "execution_count": null
        },
        {
            "cell_type": "markdown",
            "source": [
                "<span style=\"color: rgb(55, 65, 81); font-family: Söhne, ui-sans-serif, system-ui, -apple-system, &quot;Segoe UI&quot;, Roboto, Ubuntu, Cantarell, &quot;Noto Sans&quot;, sans-serif, &quot;Helvetica Neue&quot;, Arial, &quot;Apple Color Emoji&quot;, &quot;Segoe UI Emoji&quot;, &quot;Segoe UI Symbol&quot;, &quot;Noto Color Emoji&quot;; font-size: 16px; white-space: pre-wrap; background-color: rgb(247, 247, 248);\">c. Change the price of the monitor to 100 euros.</span>"
            ],
            "metadata": {
                "language": "sql",
                "azdata_cell_guid": "047f1660-a4df-4aaa-9a51-deea45a08560"
            },
            "attachments": {}
        },
        {
            "cell_type": "code",
            "source": [
                "update product \r\n",
                "set price=100\r\n",
                "where idproduct=2;"
            ],
            "metadata": {
                "language": "sql",
                "azdata_cell_guid": "75c47624-36d5-43ef-a126-d49380473bc9"
            },
            "outputs": [],
            "execution_count": null
        },
        {
            "cell_type": "markdown",
            "source": [
                "<span style=\"color: rgb(55, 65, 81); font-family: Söhne, ui-sans-serif, system-ui, -apple-system, &quot;Segoe UI&quot;, Roboto, Ubuntu, Cantarell, &quot;Noto Sans&quot;, sans-serif, &quot;Helvetica Neue&quot;, Arial, &quot;Apple Color Emoji&quot;, &quot;Segoe UI Emoji&quot;, &quot;Segoe UI Symbol&quot;, &quot;Noto Color Emoji&quot;; font-size: 16px; white-space: pre-wrap; background-color: rgb(247, 247, 248);\">Write the following SQL queries</span>"
            ],
            "metadata": {
                "language": "sql",
                "azdata_cell_guid": "68ab780e-0813-46b5-8a48-66336412c71d"
            },
            "attachments": {}
        },
        {
            "cell_type": "markdown",
            "source": [
                "<span style=\"color: rgb(55, 65, 81); font-family: Söhne, ui-sans-serif, system-ui, -apple-system, &quot;Segoe UI&quot;, Roboto, Ubuntu, Cantarell, &quot;Noto Sans&quot;, sans-serif, &quot;Helvetica Neue&quot;, Arial, &quot;Apple Color Emoji&quot;, &quot;Segoe UI Emoji&quot;, &quot;Segoe UI Symbol&quot;, &quot;Noto Color Emoji&quot;; font-size: 16px; white-space: pre-wrap; background-color: rgb(247, 247, 248);\">a. Show all the products in the store.<br></span>"
            ],
            "metadata": {
                "language": "sql",
                "azdata_cell_guid": "4d41fd25-5193-4d19-b096-538c39eb1568"
            },
            "attachments": {}
        },
        {
            "cell_type": "code",
            "source": [
                "select *\r\n",
                "from product"
            ],
            "metadata": {
                "language": "sql",
                "azdata_cell_guid": "9f220c26-a4f7-4362-a691-7508d1b0ac06"
            },
            "outputs": [],
            "execution_count": null
        },
        {
            "cell_type": "markdown",
            "source": [
                "<span style=\"color: rgb(55, 65, 81); font-family: Söhne, ui-sans-serif, system-ui, -apple-system, &quot;Segoe UI&quot;, Roboto, Ubuntu, Cantarell, &quot;Noto Sans&quot;, sans-serif, &quot;Helvetica Neue&quot;, Arial, &quot;Apple Color Emoji&quot;, &quot;Segoe UI Emoji&quot;, &quot;Segoe UI Symbol&quot;, &quot;Noto Color Emoji&quot;; font-size: 16px; white-space: pre-wrap; background-color: rgb(247, 247, 248);\">b. Show the names of all active customers.</span>"
            ],
            "metadata": {
                "language": "sql",
                "azdata_cell_guid": "6c0931ab-81d3-4c4c-9129-c92353b681f5"
            },
            "attachments": {}
        },
        {
            "cell_type": "code",
            "source": [
                "select name\r\n",
                "from customer\r\n",
                "where state=1"
            ],
            "metadata": {
                "language": "sql",
                "azdata_cell_guid": "0826865c-b39c-4d2b-b9c2-c14c687980af"
            },
            "outputs": [],
            "execution_count": null
        },
        {
            "cell_type": "markdown",
            "source": [
                "<span style=\"background-color: rgb(247, 247, 248); color: rgb(55, 65, 81); font-family: Söhne, ui-sans-serif, system-ui, -apple-system, &quot;Segoe UI&quot;, Roboto, Ubuntu, Cantarell, &quot;Noto Sans&quot;, sans-serif, &quot;Helvetica Neue&quot;, Arial, &quot;Apple Color Emoji&quot;, &quot;Segoe UI Emoji&quot;, &quot;Segoe UI Symbol&quot;, &quot;Noto Color Emoji&quot;; font-size: 16px; white-space: pre-wrap;\">c. Show all sales made to the customer Raul Simas.</span>"
            ],
            "metadata": {
                "language": "sql",
                "azdata_cell_guid": "9398aa7c-4952-49f3-8b6d-f292e2982da2"
            },
            "attachments": {}
        },
        {
            "cell_type": "code",
            "source": [
                "select s.*\r\n",
                "from sales s\r\n",
                "inner join customer c\r\n",
                "on s.idcustomer=c.idcustomer\r\n",
                "where c.name='Raul Simas'"
            ],
            "metadata": {
                "language": "sql",
                "azdata_cell_guid": "1345a7d3-fb0e-41ba-8700-ea4e899f6e15"
            },
            "outputs": [],
            "execution_count": null
        },
        {
            "cell_type": "markdown",
            "source": [
                "<span style=\"background-color: rgb(247, 247, 248); color: rgb(55, 65, 81); font-family: Söhne, ui-sans-serif, system-ui, -apple-system, &quot;Segoe UI&quot;, Roboto, Ubuntu, Cantarell, &quot;Noto Sans&quot;, sans-serif, &quot;Helvetica Neue&quot;, Arial, &quot;Apple Color Emoji&quot;, &quot;Segoe UI Emoji&quot;, &quot;Segoe UI Symbol&quot;, &quot;Noto Color Emoji&quot;; font-size: 16px; white-space: pre-wrap;\">d. Show all sales made to customers whose names start with the letter H.</span>"
            ],
            "metadata": {
                "language": "sql",
                "azdata_cell_guid": "ad9dd02d-b887-44b7-8197-ac18439f805d"
            },
            "attachments": {}
        },
        {
            "cell_type": "code",
            "source": [
                "select s.*\r\n",
                "from sales s\r\n",
                "inner join customer c\r\n",
                "on s.idcustomer=c.idcustomer\r\n",
                "where c.name like'H%'"
            ],
            "metadata": {
                "language": "sql",
                "azdata_cell_guid": "0022c2aa-f225-4819-b759-e909181768d5"
            },
            "outputs": [],
            "execution_count": null
        },
        {
            "cell_type": "markdown",
            "source": [
                "<span style=\"color: rgb(55, 65, 81); font-family: Söhne, ui-sans-serif, system-ui, -apple-system, &quot;Segoe UI&quot;, Roboto, Ubuntu, Cantarell, &quot;Noto Sans&quot;, sans-serif, &quot;Helvetica Neue&quot;, Arial, &quot;Apple Color Emoji&quot;, &quot;Segoe UI Emoji&quot;, &quot;Segoe UI Symbol&quot;, &quot;Noto Color Emoji&quot;; font-size: 16px; white-space: pre-wrap; background-color: rgb(247, 247, 248);\">e. Show how many sales were made to the customer Raul Simas.<br></span>"
            ],
            "metadata": {
                "language": "sql",
                "azdata_cell_guid": "d60db173-e427-44ff-810d-b3f9b43db5cd"
            },
            "attachments": {}
        },
        {
            "cell_type": "code",
            "source": [
                "select count(*)\r\n",
                "from sales s \r\n",
                "inner join customer c\r\n",
                "on s.idcustomer=c.idcustomer\r\n",
                "where c.name='Raul Simas'"
            ],
            "metadata": {
                "language": "sql",
                "azdata_cell_guid": "e42fb8dd-7f69-4810-9c29-bac3d96598e3"
            },
            "outputs": [],
            "execution_count": null
        },
        {
            "cell_type": "markdown",
            "source": [
                "<span style=\"color: rgb(55, 65, 81); font-family: Söhne, ui-sans-serif, system-ui, -apple-system, &quot;Segoe UI&quot;, Roboto, Ubuntu, Cantarell, &quot;Noto Sans&quot;, sans-serif, &quot;Helvetica Neue&quot;, Arial, &quot;Apple Color Emoji&quot;, &quot;Segoe UI Emoji&quot;, &quot;Segoe UI Symbol&quot;, &quot;Noto Color Emoji&quot;; font-size: 16px; white-space: pre-wrap; background-color: rgb(247, 247, 248);\">f. Show the price of the most expensive product in the store.<br></span>"
            ],
            "metadata": {
                "language": "sql",
                "azdata_cell_guid": "debd9640-ecf3-4654-8047-1a5bcb776ef6"
            },
            "attachments": {}
        },
        {
            "cell_type": "code",
            "source": [
                "select max(price) as producto_most_expensive\r\n",
                "from product "
            ],
            "metadata": {
                "language": "sql",
                "azdata_cell_guid": "cfae5a03-3336-4fe9-b569-baab3d674d43"
            },
            "outputs": [],
            "execution_count": null
        },
        {
            "cell_type": "markdown",
            "source": [
                "<span style=\"color: rgb(55, 65, 81); font-family: Söhne, ui-sans-serif, system-ui, -apple-system, &quot;Segoe UI&quot;, Roboto, Ubuntu, Cantarell, &quot;Noto Sans&quot;, sans-serif, &quot;Helvetica Neue&quot;, Arial, &quot;Apple Color Emoji&quot;, &quot;Segoe UI Emoji&quot;, &quot;Segoe UI Symbol&quot;, &quot;Noto Color Emoji&quot;; font-size: 16px; white-space: pre-wrap; background-color: rgb(247, 247, 248);\">g. Show which products have a price less than or equal to 100 euros.<br></span>"
            ],
            "metadata": {
                "language": "sql",
                "azdata_cell_guid": "2dd7d23d-4f9b-499b-8c6c-2de4cbd31a20"
            },
            "attachments": {}
        },
        {
            "cell_type": "code",
            "source": [
                "select p.description, p.price\r\n",
                "from product p\r\n",
                "where p.price<=100"
            ],
            "metadata": {
                "language": "sql",
                "azdata_cell_guid": "0a12d8cb-a418-4091-ab1b-6b22642a2235"
            },
            "outputs": [],
            "execution_count": null
        },
        {
            "cell_type": "markdown",
            "source": [
                "<span style=\"color: rgb(55, 65, 81); font-family: Söhne, ui-sans-serif, system-ui, -apple-system, &quot;Segoe UI&quot;, Roboto, Ubuntu, Cantarell, &quot;Noto Sans&quot;, sans-serif, &quot;Helvetica Neue&quot;, Arial, &quot;Apple Color Emoji&quot;, &quot;Segoe UI Emoji&quot;, &quot;Segoe UI Symbol&quot;, &quot;Noto Color Emoji&quot;; font-size: 16px; white-space: pre-wrap; background-color: rgb(247, 247, 248);\">h. Show the names of customers who have never made any purchases.<br></span>"
            ],
            "metadata": {
                "language": "sql",
                "azdata_cell_guid": "5ea4519b-35e4-4db6-9dcf-591bb9f75204"
            },
            "attachments": {}
        },
        {
            "cell_type": "code",
            "source": [
                "select *\r\n",
                "from customer c\r\n",
                "where c.idcustomer not in (select s.idcustomer from sales s)"
            ],
            "metadata": {
                "language": "sql",
                "azdata_cell_guid": "fb0573ec-9bde-4851-8785-d53f6544a3c6",
                "tags": []
            },
            "outputs": [],
            "execution_count": null
        },
        {
            "cell_type": "markdown",
            "source": [
                "<span style=\"color: rgb(55, 65, 81); font-family: Söhne, ui-sans-serif, system-ui, -apple-system, &quot;Segoe UI&quot;, Roboto, Ubuntu, Cantarell, &quot;Noto Sans&quot;, sans-serif, &quot;Helvetica Neue&quot;, Arial, &quot;Apple Color Emoji&quot;, &quot;Segoe UI Emoji&quot;, &quot;Segoe UI Symbol&quot;, &quot;Noto Color Emoji&quot;; font-size: 16px; white-space: pre-wrap; background-color: rgb(247, 247, 248);\">i. Show the total revenue generated for each day.</span>"
            ],
            "metadata": {
                "language": "sql",
                "azdata_cell_guid": "e024f5bd-4685-4a46-85ce-b8aca4a709a5"
            },
            "attachments": {}
        },
        {
            "cell_type": "code",
            "source": [
                "select sum(p.price*s.quantity) as total_revenue ,s.date\r\n",
                "from price p\r\n",
                "inner join sales s\r\n",
                "on s.idproduct=p.idproduct\r\n",
                "group by(s.date)"
            ],
            "metadata": {
                "language": "sql",
                "azdata_cell_guid": "355952d0-b7b5-4b6a-b4b7-50762a42026b",
                "tags": []
            },
            "outputs": [],
            "execution_count": null
        }
    ]
}
