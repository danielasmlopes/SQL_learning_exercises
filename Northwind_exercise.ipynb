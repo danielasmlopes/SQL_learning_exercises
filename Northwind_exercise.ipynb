{
 "cells": [
  {
   "cell_type": "markdown",
   "metadata": {},
   "source": [
    "In this exercise, we will explore the world of relational databases and hone our SQL skills by working with the Northwind database. The Northwind database is a sample database that simulates a small e-commerce system, containing tables with data on products, customers, orders, and more.\n",
    "\n",
    "Objectives:\n",
    "\n",
    "Our primary objectives in this exercise are as follows:\n",
    "\n",
    "Creation of the Northwind Database: We will begin by creating the Northwind database, which is essential for the rest of the exercise. You'll learn how to set up a database and populate it with the necessary tables.\n",
    "\n",
    "Building SQL Queries: After establishing the database, we'll delve into the heart of SQL – constructing queries. You'll learn how to retrieve and manipulate data efficiently. This exercise will help you sharpen your SQL querying skills and gain a deeper understanding of database management.\n",
    "\n",
    "By the end of this exercise, you'll have a practical understanding of working with SQL and a real-world database, preparing you for a wide range of data-related tasks and scenarios."
   ]
  },
  {
   "cell_type": "markdown",
   "metadata": {},
   "source": [
    "1) Create a Database using the attached Northwind.sql script."
   ]
  },
  {
   "cell_type": "code",
   "execution_count": null,
   "metadata": {
    "vscode": {
     "languageId": "sql"
    }
   },
   "outputs": [],
   "source": []
  },
  {
   "cell_type": "markdown",
   "metadata": {},
   "source": [
    "2) Create the following queries:\n",
    "a. Show all suppliers."
   ]
  },
  {
   "cell_type": "code",
   "execution_count": null,
   "metadata": {
    "vscode": {
     "languageId": "sql"
    }
   },
   "outputs": [],
   "source": [
    "SELECT *\n",
    "FROM Suppliers"
   ]
  },
  {
   "cell_type": "markdown",
   "metadata": {},
   "source": [
    "b. Show all categories."
   ]
  },
  {
   "cell_type": "code",
   "execution_count": null,
   "metadata": {
    "vscode": {
     "languageId": "sql"
    }
   },
   "outputs": [],
   "source": [
    "SELECT *\n",
    "FROM Categories"
   ]
  },
  {
   "cell_type": "markdown",
   "metadata": {},
   "source": [
    "c. Show the most expensive product per category, ordered by price."
   ]
  },
  {
   "cell_type": "code",
   "execution_count": null,
   "metadata": {
    "vscode": {
     "languageId": "sql"
    }
   },
   "outputs": [],
   "source": [
    "SELECT c.CategoryName AS Category, p.ProductName AS Product, p.UnitPrice AS Price \n",
    "FROM Products p \n",
    "INNER JOIN Categories c ON p.CategoryID = c.CategoryID\n",
    "WHERE p.UnitPrice = (SELECT MAX(p.UnitPrice) FROM Products p WHERE p.CategoryID = c.CategoryID)\n",
    "ORDER BY p.UnitPrice DESC\n",
    "\n",
    "SELECT t.CategoryID, t.CategoryName, t.ProductID, t.ProductName, t.UnitPrice  \n",
    "FROM (\n",
    "    SELECT c.CategoryID, c.CategoryName, p.ProductID, p.ProductName, p.UnitPrice,\n",
    "           ROW_NUMBER() OVER(PARTITION BY CategoryName ORDER BY p.UnitPrice DESC) AS i\n",
    "    FROM Products p\n",
    "    INNER JOIN Categories c\n",
    "    ON p.CategoryID = c.CategoryID\n",
    ") t\n",
    "WHERE t.i = 1;"
   ]
  },
  {
   "cell_type": "markdown",
   "metadata": {},
   "source": [
    "d. Show the category name, product name, and the total price of the 5 products with the highest discounts."
   ]
  },
  {
   "cell_type": "code",
   "execution_count": null,
   "metadata": {
    "vscode": {
     "languageId": "sql"
    }
   },
   "outputs": [],
   "source": [
    "SELECT TOP(5) c.CategoryName, p.ProductName, SUM(p.UnitPrice)\n",
    "FROM Categories c\n",
    "INNER JOIN Products p ON c.CategoryID = p.CategoryID\n",
    "INNER JOIN [Order Details] od ON p.ProductID = od.ProductID\n",
    "GROUP BY c.CategoryName, p.ProductName, p.UnitPrice, od.Discount\n",
    "ORDER BY od.Discount DESC"
   ]
  },
  {
   "cell_type": "markdown",
   "metadata": {},
   "source": [
    "e. Show the first and last names of employees, the names of the territories, and the regions assigned to each of them."
   ]
  },
  {
   "cell_type": "code",
   "execution_count": null,
   "metadata": {
    "vscode": {
     "languageId": "sql"
    }
   },
   "outputs": [],
   "source": [
    "SELECT DISTINCT e.FirstName, e.LastName, t.TerritoryDescription, r.RegionDescription\n",
    "FROM Employees e\n",
    "INNER JOIN EmployeeTerritories te ON e.EmployeeID = te.EmployeeID\n",
    "INNER JOIN Territories t ON te.TerritoryID = t.TerritoryID\n",
    "INNER JOIN Region r ON t.RegionID = r.RegionID"
   ]
  },
  {
   "cell_type": "markdown",
   "metadata": {},
   "source": [
    "f. Display the turnover by city."
   ]
  },
  {
   "cell_type": "code",
   "execution_count": null,
   "metadata": {
    "vscode": {
     "languageId": "sql"
    }
   },
   "outputs": [],
   "source": [
    "SELECT SUM(od.UnitPrice * od.Quantity) AS Turnover, o.ShipCity AS City\n",
    "FROM [Order Details] od\n",
    "INNER JOIN Orders o ON od.OrderID = o.OrderID\n",
    "GROUP BY o.ShipCity\n",
    "\n",
    "SELECT t.TerritoryDescription, ROUND(SUM(od.UnitPrice * od.Quantity * (1 - Discount), 2) total\n",
    "FROM Territories t\n",
    "INNER JOIN EmployeeTerritories et\n",
    "ON et.TerritoryID = t.TerritoryID\n",
    "INNER JOIN Employees e\n",
    "ON e.EmployeeID = et.EmployeeID\n",
    "INNER JOIN Orders o\n",
    "ON e.EmployeeID = o.EmployeeID\n",
    "INNER JOIN [Order Details] od\n",
    "ON o.OrderID = od.OrderID\n",
    "GROUP BY t.TerritoryDescription;"
   ]
  },
  {
   "cell_type": "markdown",
   "metadata": {},
   "source": [
    "g. Show the customers who haven't made any purchases."
   ]
  },
  {
   "cell_type": "code",
   "execution_count": null,
   "metadata": {
    "vscode": {
     "languageId": "sql"
    }
   },
   "outputs": [],
   "source": [
    "SELECT c.CompanyName\n",
    "FROM Customers c\n",
    "WHERE c.CustomerID NOT IN (SELECT o.CustomerID FROM Orders o) "
   ]
  },
  {
   "cell_type": "markdown",
   "metadata": {},
   "source": [
    "h. Display how many orders each carrier has transported."
   ]
  },
  {
   "cell_type": "code",
   "execution_count": null,
   "metadata": {
    "vscode": {
     "languageId": "sql"
    }
   },
   "outputs": [],
   "source": [
    "SELECT s.CompanyName, COUNT(o.OrderID) AS TotalOrders\n",
    "FROM Orders o\n",
    "INNER JOIN Shippers s ON o.ShipVia = s.ShipperID\n",
    "GROUP BY s.CompanyName"
   ]
  },
  {
   "cell_type": "markdown",
   "metadata": {},
   "source": [
    "i. Show the first and last names of employees and the first and last names of their respective supervisors."
   ]
  },
  {
   "cell_type": "code",
   "execution_count": null,
   "metadata": {
    "vscode": {
     "languageId": "sql"
    }
   },
   "outputs": [],
   "source": [
    "SELECT r.FirstName AS EmployeeFirstName, r.LastName AS EmployeeLastName, e.FirstName AS SupervisorFirstName, e.LastName AS SupervisorLastName\n",
    "FROM Employees AS e\n",
    "RIGHT JOIN Employees AS r ON e.EmployeeID = r.ReportsTo"
   ]
  },
  {
   "cell_type": "markdown",
   "metadata": {},
   "source": [
    "j. Categories sold by regions of employees."
   ]
  },
  {
   "cell_type": "code",
   "execution_count": null,
   "metadata": {
    "vscode": {
     "languageId": "sql"
    }
   },
   "outputs": [],
   "source": [
    "SELECT DISTINCT e.Region, c.CategoryName\n",
    "FROM Categories c\n",
    "INNER JOIN Products p ON c.CategoryID = p.CategoryID\n",
    "INNER JOIN [Order Details] od ON p.ProductID = od.ProductID\n",
    "INNER JOIN Orders o ON od.OrderID = o.OrderID\n",
    "INNER JOIN Employees e ON o.EmployeeID = e.EmployeeID\n",
    "ORDER BY e.Region"
   ]
  },
  {
   "cell_type": "markdown",
   "metadata": {},
   "source": [
    "k. Categories sold in the month of April 1997."
   ]
  },
  {
   "cell_type": "code",
   "execution_count": null,
   "metadata": {
    "vscode": {
     "languageId": "sql"
    }
   },
   "outputs": [],
   "source": [
    "SELECT c.CategoryName, o.OrderDate\n",
    "FROM Categories c\n",
    "INNER JOIN Products p ON c.CategoryID = p.CategoryID\n",
    "INNER JOIN [Order Details] od ON p.ProductID = od.ProductID\n",
    "INNER JOIN Orders o ON od.OrderID = o.OrderID\n",
    "WHERE MONTH(o.OrderDate) = 4 AND YEAR(o.OrderDate) = 1997"
   ]
  },
  {
   "cell_type": "markdown",
   "metadata": {},
   "source": [
    "l. Orders that were shipped after the sixth day from the order date."
   ]
  },
  {
   "cell_type": "code",
   "execution_count": null,
   "metadata": {
    "vscode": {
     "languageId": "sql"
    }
   },
   "outputs": [],
   "source": [
    "SELECT OrderID \n",
    "FROM Orders\n",
    "WHERE DATEDIFF(DAY, OrderDate, ShippedDate) > 6"
   ]
  }
 ],
 "metadata": {
  "language_info": {
   "name": "python"
  },
  "orig_nbformat": 4
 },
 "nbformat": 4,
 "nbformat_minor": 2
}
