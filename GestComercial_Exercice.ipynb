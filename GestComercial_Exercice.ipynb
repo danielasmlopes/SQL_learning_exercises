{
    "metadata": {
        "kernelspec": {
            "name": "SQL",
            "display_name": "SQL",
            "language": "sql"
        },
        "language_info": {
            "name": "sql",
            "version": ""
        }
    },
    "nbformat_minor": 2,
    "nbformat": 4,
    "cells": [
        {
            "cell_type": "markdown",
            "source": [
                "<span style=\"color: rgb(55, 65, 81); font-family: Söhne, ui-sans-serif, system-ui, -apple-system, &quot;Segoe UI&quot;, Roboto, Ubuntu, Cantarell, &quot;Noto Sans&quot;, sans-serif, &quot;Helvetica Neue&quot;, Arial, &quot;Apple Color Emoji&quot;, &quot;Segoe UI Emoji&quot;, &quot;Segoe UI Symbol&quot;, &quot;Noto Color Emoji&quot;; font-size: 16px; white-space: pre-wrap; background-color: rgb(247, 247, 248);\">Create a database called GestComercial.</span>\n",
                "\n",
                "<span style=\"color: rgb(55, 65, 81); font-family: Söhne, ui-sans-serif, system-ui, -apple-system, &quot;Segoe UI&quot;, Roboto, Ubuntu, Cantarell, &quot;Noto Sans&quot;, sans-serif, &quot;Helvetica Neue&quot;, Arial, &quot;Apple Color Emoji&quot;, &quot;Segoe UI Emoji&quot;, &quot;Segoe UI Symbol&quot;, &quot;Noto Color Emoji&quot;; font-size: 16px; white-space: pre-wrap; background-color: rgb(247, 247, 248);\">Create the following tables with their respective characteristics:</span>"
            ],
            "metadata": {
                "azdata_cell_guid": "3dc12504-fe79-4d94-9096-866ddd528a0b"
            },
            "attachments": {}
        },
        {
            "cell_type": "markdown",
            "source": [
                "**Customer**\r\n",
                "\r\n",
                "| Field | Constraint | \r\n",
                "| --- | --- | \r\n",
                "| id | Integer, auto-generated field. (Primary Key) | \r\n",
                "| name | Allows 50 characters and is mandatory. |\r\n",
                "| address | Allows 250 characters. |\r\n",
                "| state | Bit (only allows values 1 or 0) |\r\n",
                "\r\n",
                "**Product**\r\n",
                "\r\n",
                "| Field | Constraint | \r\n",
                "| --- | --- | \r\n",
                "| id | Integer, auto-generated field. (Primary Key) | \r\n",
                "| description| Allows 100 characters and is mandatory. |\r\n",
                "| price| Decimal number with a maximum of 10 integer digits and 2 decimal places. |\r\n",
                "\r\n",
                "**Sales** \r\n",
                "\r\n",
                "| Field | Constraint | \r\n",
                "| --- | --- | \r\n",
                "| prod | Integer (Primary Key and Foreign Key) |\r\n",
                "| cli | Integer (Primary Key and Foreign Key) |\r\n",
                "| date | Date and Time (Primary Key) |\r\n",
                "| quantity | Integer, representing the quantity. |"
            ],
            "metadata": {
                "azdata_cell_guid": "a13f795a-aa34-41e0-b0dd-67a10b8f9210"
            },
            "attachments": {}
        },
        {
            "cell_type": "code",
            "source": [
                "create database GestComercial;\r\n",
                "\r\n",
                "create table customer(\r\n",
                "idcustomer int identity(1,1),\r\n",
                "name varchar(50),\r\n",
                "address varchar(250),\r\n",
                "state bit,\r\n",
                "constraint PK_customer Primary Key (idcustomer)\r\n",
                ");\r\n",
                "\r\n",
                "create table product(\r\n",
                "idproduct int identity(1,1),\r\n",
                "description varchar(100),\r\n",
                "price decimal(10,2),\r\n",
                "constraint PK_product Primary Key (idproduct)\r\n",
                ");\r\n",
                "\r\n",
                "create table sales(\r\n",
                "idproduct int,\r\n",
                "idcustomer int,\r\n",
                "date date,\r\n",
                "quantity int,\r\n",
                "constraint PK_sales Primary Key (idproduct,idcustomer,data),\r\n",
                "Foreign Key (idproduct) References produto(idproduct),\r\n",
                "Foreign Key (idcustomer) References cliente(idcustomer)\r\n",
                ");"
            ],
            "metadata": {
                "azdata_cell_guid": "9983eaef-7f13-4f27-9de7-2b15435a9577",
                "language": "sql"
            },
            "outputs": [],
            "execution_count": null
        },
        {
            "cell_type": "markdown",
            "source": [
                "<span style=\"color: rgb(55, 65, 81); font-family: Söhne, ui-sans-serif, system-ui, -apple-system, &quot;Segoe UI&quot;, Roboto, Ubuntu, Cantarell, &quot;Noto Sans&quot;, sans-serif, &quot;Helvetica Neue&quot;, Arial, &quot;Apple Color Emoji&quot;, &quot;Segoe UI Emoji&quot;, &quot;Segoe UI Symbol&quot;, &quot;Noto Color Emoji&quot;; font-size: 16px; white-space: pre-wrap; background-color: rgb(247, 247, 248);\">Insert the following values into the table:</span>\n",
                "\n",
                "<span style=\"color: rgb(55, 65, 81); font-family: Söhne, ui-sans-serif, system-ui, -apple-system, &quot;Segoe UI&quot;, Roboto, Ubuntu, Cantarell, &quot;Noto Sans&quot;, sans-serif, &quot;Helvetica Neue&quot;, Arial, &quot;Apple Color Emoji&quot;, &quot;Segoe UI Emoji&quot;, &quot;Segoe UI Symbol&quot;, &quot;Noto Color Emoji&quot;; font-size: 16px; white-space: pre-wrap; background-color: rgb(247, 247, 248);\"><br></span>\n",
                "\n",
                "**Customer**\n",
                "\n",
                "| idcustomer | name | address | state |\n",
                "| --- | --- | --- | --- |\n",
                "| 1 | Helena Monteiro | Perafita – Freixieiro | 1 |\n",
                "| 2 | Raul Simas | Palmela | 0 |\n",
                "\n",
                "**Product**\n",
                "\n",
                "| id | description | price |\n",
                "| --- | --- | --- |\n",
                "| 1 | Rato Logitec XPTO 1 | 10 | \n",
                "| 2 | Monitor Sony Vaio XPTO  | 100 |\n",
                "\n",
                "**Sales**\n",
                "\n",
                "| idcustomer | idproduct | quantity | date |\n",
                "| --- | --- | --- | --- |\n",
                "| 1 | 1 | 1 | 05-04-2012 |\n",
                "| 2 | 1 | 5 | 06-04-2012 |\n",
                ""
            ],
            "metadata": {
                "language": "sql",
                "azdata_cell_guid": "1d18aceb-1b2e-4303-8b5e-cc3bcba82cc0"
            },
            "attachments": {}
        },
        {
            "cell_type": "markdown",
            "source": [
                "<span style=\"color: rgb(55, 65, 81); font-family: Söhne, ui-sans-serif, system-ui, -apple-system, &quot;Segoe UI&quot;, Roboto, Ubuntu, Cantarell, &quot;Noto Sans&quot;, sans-serif, &quot;Helvetica Neue&quot;, Arial, &quot;Apple Color Emoji&quot;, &quot;Segoe UI Emoji&quot;, &quot;Segoe UI Symbol&quot;, &quot;Noto Color Emoji&quot;; font-size: 16px; white-space: pre-wrap; background-color: rgb(247, 247, 248);\">Make the following data changes</span>\n",
                "\n",
                "<span style=\"background-color: rgb(247, 247, 248); color: rgb(55, 65, 81); font-family: Söhne, ui-sans-serif, system-ui, -apple-system, &quot;Segoe UI&quot;, Roboto, Ubuntu, Cantarell, &quot;Noto Sans&quot;, sans-serif, &quot;Helvetica Neue&quot;, Arial, &quot;Apple Color Emoji&quot;, &quot;Segoe UI Emoji&quot;, &quot;Segoe UI Symbol&quot;, &quot;Noto Color Emoji&quot;; font-size: 16px; white-space: pre-wrap;\">a. In sale number 2, change the quantity to 10.</span>"
            ],
            "metadata": {
                "language": "sql",
                "azdata_cell_guid": "2ce44cf1-948c-4ecc-ac63-3d46dff68d61"
            },
            "attachments": {}
        },
        {
            "cell_type": "code",
            "source": [
                "insert into customer(name,address,state) values \r\n",
                "('Helena Monteiro','Perafita � Freixieiro',1),\r\n",
                "('Raul Simas','Palmela',0)\r\n",
                "select * from customer;"
            ],
            "metadata": {
                "language": "sql",
                "azdata_cell_guid": "89693754-8001-4fb9-a14e-d24eafb786ba"
            },
            "outputs": [],
            "execution_count": null
        },
        {
            "cell_type": "markdown",
            "source": [
                "<span style=\"background-color: rgb(247, 247, 248); color: rgb(55, 65, 81); font-family: Söhne, ui-sans-serif, system-ui, -apple-system, &quot;Segoe UI&quot;, Roboto, Ubuntu, Cantarell, &quot;Noto Sans&quot;, sans-serif, &quot;Helvetica Neue&quot;, Arial, &quot;Apple Color Emoji&quot;, &quot;Segoe UI Emoji&quot;, &quot;Segoe UI Symbol&quot;, &quot;Noto Color Emoji&quot;; font-size: 16px; white-space: pre-wrap;\">b. Change Raul's address to Porto.</span>"
            ],
            "metadata": {
                "language": "sql",
                "azdata_cell_guid": "08f21eec-6b7a-418e-91d3-605e3d056540"
            },
            "attachments": {}
        },
        {
            "cell_type": "code",
            "source": [
                "insert into product(description,price) values\r\n",
                "('Rato Logitec XPTO 1',10),\r\n",
                "('Monitor Sony Vaio XPTO',100)\r\n",
                "select * from product;"
            ],
            "metadata": {
                "language": "sql",
                "azdata_cell_guid": "e70c4491-9a94-4fae-ba51-8e8b9252ce6f"
            },
            "outputs": [],
            "execution_count": null
        },
        {
            "cell_type": "markdown",
            "source": [
                "<span style=\"color: rgb(55, 65, 81); font-family: Söhne, ui-sans-serif, system-ui, -apple-system, &quot;Segoe UI&quot;, Roboto, Ubuntu, Cantarell, &quot;Noto Sans&quot;, sans-serif, &quot;Helvetica Neue&quot;, Arial, &quot;Apple Color Emoji&quot;, &quot;Segoe UI Emoji&quot;, &quot;Segoe UI Symbol&quot;, &quot;Noto Color Emoji&quot;; font-size: 16px; white-space: pre-wrap; background-color: rgb(247, 247, 248);\">c. Change the price of the monitor to 100 euros.</span>"
            ],
            "metadata": {
                "language": "sql",
                "azdata_cell_guid": "047f1660-a4df-4aaa-9a51-deea45a08560"
            },
            "attachments": {}
        },
        {
            "cell_type": "code",
            "source": [
                "insert into sales(idcustomer,idproduct,quantity,date) values\r\n",
                "(1,1,1,convert(datetime,'05/04/2012'),103),\r\n",
                "(2,1,5,convert(datetime,'06/04/2012'),103)\r\n",
                "select * from sales;"
            ],
            "metadata": {
                "language": "sql",
                "azdata_cell_guid": "f36bd42a-a81b-40ba-b8de-e7e909dea403",
                "tags": []
            },
            "outputs": [],
            "execution_count": null
        }
    ]
}