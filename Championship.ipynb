{
 "cells": [
  {
   "cell_type": "markdown",
   "metadata": {},
   "source": [
    "In this exercise, I am tasked with setting up a database for a championship and populating it with initial data. The database will consist of four tables: \"teams,\" \"coaches,\" \"balls,\" and \"experiences.\" Each table has specific columns to store information related to teams, coaches, soccer balls, and the experiences of coaches with different teams and age groups.\n",
    "\n",
    "The goal was to create the database and tables, define the appropriate data types for the columns, establish relationships between tables using foreign keys, and finally, insert sample records into each table to populate them. This exercise was designed to familiarize with the process of database creation and data insertion."
   ]
  },
  {
   "cell_type": "markdown",
   "metadata": {},
   "source": [
    "Create the database \"Championship\""
   ]
  },
  {
   "cell_type": "code",
   "execution_count": null,
   "metadata": {},
   "outputs": [],
   "source": [
    "CREATE DATABASE Championship;"
   ]
  },
  {
   "cell_type": "markdown",
   "metadata": {},
   "source": [
    "Create the following tables, making sure to define data types according to what you consider most appropriate for the possible field values of the tables below, as well as the relationships with their respective foreign keys.\n",
    "\n",
    "a. teams (team_id, name, city, director)\n",
    "b. coaches (coach_id, name, age, phone)\n",
    "c. balls (reference, team_id, manufacturer)\n",
    "d. experiences (team_id, coach_id, category, years)"
   ]
  },
  {
   "cell_type": "code",
   "execution_count": null,
   "metadata": {},
   "outputs": [],
   "source": [
    "CREATE TABLE team (\n",
    "    team_id INT PRIMARY KEY,\n",
    "    name VARCHAR(50),\n",
    "    city VARCHAR(50),\n",
    "    director VARCHAR(50)\n",
    ");\n",
    "\n",
    "CREATE TABLE coaches (\n",
    "    coach_id INT PRIMARY KEY,\n",
    "    name VARCHAR(50),\n",
    "    age INT,\n",
    "    phone VARCHAR(9)\n",
    ");\n",
    "\n",
    "CREATE TABLE balls (\n",
    "    reference INT,\n",
    "    team_id INT,\n",
    "    manufacturer VARCHAR(50),\n",
    "    CONSTRAINT pk_balls PRIMARY KEY (reference, team_id),\n",
    "    FOREIGN KEY (team_id) REFERENCES team(team_id)\n",
    ");\n",
    "\n",
    "\n",
    "CREATE TABLE experiences (\n",
    "    team_id INT,\n",
    "    coach_id INT,\n",
    "    category VARCHAR(50),\n",
    "    years INT,\n",
    "    CONSTRAINT pk_experiences PRIMARY KEY (team_id, coach_id, category),\n",
    "    FOREIGN KEY (team_id) REFERENCES team(team_id),\n",
    "    FOREIGN KEY (coach_id) REFERENCES coaches(coach_id)\n",
    ");"
   ]
  },
  {
   "cell_type": "markdown",
   "metadata": {},
   "source": [
    "Insert records into each of the created tables."
   ]
  },
  {
   "cell_type": "code",
   "execution_count": null,
   "metadata": {},
   "outputs": [],
   "source": [
    "INSERT INTO team (team_id, name, city, director) VALUES\n",
    "(12, 'Academic', 'Porto', 'Mario'),\n",
    "(15, 'University', 'Coimbra', 'Joao'),\n",
    "(20, 'Youth', 'Braga', 'Silva'),\n",
    "(24, 'Tigers', 'Espinho', 'Cardoso');\n",
    "\n",
    "\n",
    "INSERT INTO coaches (coach_id, name, age, phone) VALUES\n",
    "(1, 'Antonio', 34, '922424561'),\n",
    "(2, 'Barbosa', 45, '965552936'),\n",
    "(3, 'Tavares', 48, '933332267'),\n",
    "(4, 'Joaquim', 57, '918638465'),\n",
    "(5, 'Alberto', 33, '966785309'),\n",
    "(6, 'Duarte', 54, '912773446');\n",
    "\n",
    "\n",
    "INSERT INTO balls VALUES\n",
    "(1, 12, 'Adidas'),\n",
    "(9, 12, 'Reebok'),\n",
    "(13, 12, 'Adidas'),\n",
    "(1, 15, 'Adidas'),\n",
    "(3, 20, 'Olimpic'),\n",
    "(4, 20, 'Nike'),\n",
    "(18, 24, 'Reebok'),\n",
    "(21, 24, 'Olimpic');\n",
    "\n",
    "INSERT INTO experiences VALUES\n",
    "(12, 1, 'juniors', 10),\n",
    "(12, 1, 'seniors', 5),\n",
    "(12, 2, 'beginners', 2),\n",
    "(12, 2, 'juniors', 3),\n",
    "(12, 2, 'youth', 4),\n",
    "(15, 3, 'juniors', 15),\n",
    "(24, 5, 'youth', 12);\n"
   ]
  },
  {
   "cell_type": "markdown",
   "metadata": {},
   "source": [
    "-- Create the following queries:\n",
    "\n",
    "--a. Show all data from the \"Teams\" table;"
   ]
  },
  {
   "cell_type": "code",
   "execution_count": null,
   "metadata": {},
   "outputs": [],
   "source": [
    "SELECT *\n",
    "FROM team;"
   ]
  },
  {
   "cell_type": "markdown",
   "metadata": {},
   "source": [
    "--b. Show all data from the team with an ID equal to 12;"
   ]
  },
  {
   "cell_type": "code",
   "execution_count": null,
   "metadata": {},
   "outputs": [],
   "source": [
    "SELECT *\n",
    "FROM team\n",
    "WHERE team_id = 12;"
   ]
  },
  {
   "cell_type": "markdown",
   "metadata": {},
   "source": [
    "--c. Show the ID and name of all teams;"
   ]
  },
  {
   "cell_type": "code",
   "execution_count": null,
   "metadata": {},
   "outputs": [],
   "source": [
    "SELECT team_id, name\n",
    "FROM team;"
   ]
  },
  {
   "cell_type": "markdown",
   "metadata": {},
   "source": [
    "--d. Show the ID, name, and age of coaches under 40 years of age;"
   ]
  },
  {
   "cell_type": "code",
   "execution_count": null,
   "metadata": {},
   "outputs": [],
   "source": [
    "SELECT coach_id, name, age\n",
    "FROM coaches\n",
    "WHERE age < 40;"
   ]
  },
  {
   "cell_type": "markdown",
   "metadata": {},
   "source": [
    "--e. Show all data from the \"Experiences\" table related to coaches who coached juniors or have more than 10 years of experience;\n"
   ]
  },
  {
   "cell_type": "code",
   "execution_count": null,
   "metadata": {},
   "outputs": [],
   "source": [
    "SELECT *\n",
    "FROM experiences\n",
    "WHERE category = 'juniors' OR years > 10;"
   ]
  },
  {
   "cell_type": "markdown",
   "metadata": {},
   "source": [
    "--f. Show all data of coaches whose age falls within the [45, 53] interval and in descending order of age;"
   ]
  },
  {
   "cell_type": "code",
   "execution_count": null,
   "metadata": {},
   "outputs": [],
   "source": [
    "SELECT *\n",
    "FROM coaches\n",
    "WHERE age BETWEEN 45 AND 53\n",
    "ORDER BY age DESC;"
   ]
  },
  {
   "cell_type": "markdown",
   "metadata": {},
   "source": [
    "--g. Show all data of balls from the Reebok and Olimpic manufacturers;"
   ]
  },
  {
   "cell_type": "code",
   "execution_count": null,
   "metadata": {},
   "outputs": [],
   "source": [
    "SELECT *\n",
    "FROM balls\n",
    "WHERE manufacturer IN ('Reebok', 'Olimpic');\n",
    "--WHERE manufacturer='Reebok' OR manufacturer='Olimpic'"
   ]
  },
  {
   "cell_type": "markdown",
   "metadata": {},
   "source": [
    "--h. Show all data of coaches whose names start with the letter A;"
   ]
  },
  {
   "cell_type": "code",
   "execution_count": null,
   "metadata": {},
   "outputs": [],
   "source": [
    "SELECT *\n",
    "FROM coaches\n",
    "WHERE name like 'A%';"
   ]
  },
  {
   "cell_type": "markdown",
   "metadata": {},
   "source": [
    "--i. Show the number of teams participating in the championship;"
   ]
  },
  {
   "cell_type": "code",
   "execution_count": null,
   "metadata": {},
   "outputs": [],
   "source": [
    "SELECT category, COUNT(team_id) as total_teams\n",
    "FROM experiences\n",
    "GROUP BY category;"
   ]
  },
  {
   "cell_type": "markdown",
   "metadata": {},
   "source": [
    "--j. Show the number of distinct manufacturers producing balls used in the championship;"
   ]
  },
  {
   "cell_type": "code",
   "execution_count": null,
   "metadata": {},
   "outputs": [],
   "source": [
    "SELECT manufacturer, COUNT(DISTINCT manufacturer) as Manufacturer_Count\n",
    "FROM balls\n",
    "GROUP BY (manufacturer);"
   ]
  },
  {
   "cell_type": "markdown",
   "metadata": {},
   "source": [
    "--k. Show the number of coaches older than 40 years;"
   ]
  },
  {
   "cell_type": "code",
   "execution_count": null,
   "metadata": {},
   "outputs": [],
   "source": [
    "SELECT COUNT(coach_id) as Coach_Count_Over_40\n",
    "FROM coaches\n",
    "WHERE age > 40;"
   ]
  },
  {
   "cell_type": "markdown",
   "metadata": {},
   "source": [
    "--l. Show the age of the oldest coach;"
   ]
  },
  {
   "cell_type": "code",
   "execution_count": null,
   "metadata": {},
   "outputs": [],
   "source": [
    "SELECT MAX(age) AS OLDEST_COACH_AGE\n",
    "FROM coaches;"
   ]
  },
  {
   "cell_type": "markdown",
   "metadata": {},
   "source": [
    "--m. Show the IDs of teams that use Adidas manufacturer's balls;"
   ]
  },
  {
   "cell_type": "code",
   "execution_count": null,
   "metadata": {},
   "outputs": [],
   "source": [
    "SELECT team_id \n",
    "FROM balls\n",
    "WHERE manufacturer='Adidas';"
   ]
  },
  {
   "cell_type": "markdown",
   "metadata": {},
   "source": [
    "--n. Show the result of the previous query without repetitions;"
   ]
  },
  {
   "cell_type": "code",
   "execution_count": null,
   "metadata": {},
   "outputs": [],
   "source": [
    "SELECT DISTINCT team_id \n",
    "FROM balls\n",
    "WHERE manufacturer='Adidas';"
   ]
  },
  {
   "cell_type": "markdown",
   "metadata": {},
   "source": [
    "--o. Show the average ages of coaches for the \"juveniles\" category;"
   ]
  },
  {
   "cell_type": "code",
   "execution_count": null,
   "metadata": {},
   "outputs": [],
   "source": [
    "SELECT AVG(t.age) AS AVERAGE_AGES, e.category AS Category\n",
    "FROM coaches t\n",
    "INNER JOIN experiences e ON t.coach_id=e.coach_id\n",
    "WHERE e.category='juveniles'\n",
    "GROUP BY e.category;"
   ]
  },
  {
   "cell_type": "markdown",
   "metadata": {},
   "source": [
    "--p. Show all data of coaches and the teams they coach;"
   ]
  },
  {
   "cell_type": "code",
   "execution_count": null,
   "metadata": {},
   "outputs": [],
   "source": [
    "SELECT t.* , eq.*\n",
    "FROM coaches t\n",
    "INNER JOIN experiences e ON t.coach_id=e.coach_id\n",
    "INNER JOIN team eq ON e.team_id=eq.team_id;"
   ]
  },
  {
   "cell_type": "markdown",
   "metadata": {},
   "source": [
    "--q. Show the names and phones of coaches and the names of the teams they coach;"
   ]
  },
  {
   "cell_type": "code",
   "execution_count": null,
   "metadata": {},
   "outputs": [],
   "source": [
    "SELECT t.name, t.phone, eq.name\n",
    "FROM coaches t\n",
    "INNER JOIN experiences e ON t.coach_id=e.coach_id\n",
    "INNER JOIN team eq ON e.team_id=eq.team_id;"
   ]
  },
  {
   "cell_type": "markdown",
   "metadata": {},
   "source": [
    "--r. Show all data of the \"Academic\" team and its respective coaches;"
   ]
  },
  {
   "cell_type": "code",
   "execution_count": null,
   "metadata": {},
   "outputs": [],
   "source": [
    "SELECT DISTINCT eq.*, t.* \n",
    "FROM team eq\n",
    "INNER JOIN experiences e ON eq.team_id=e.team_id\n",
    "INNER JOIN coaches t ON e.coach_id=t.coach_id\n",
    "WHERE eq.name LIKE 'Academic';"
   ]
  },
  {
   "cell_type": "markdown",
   "metadata": {},
   "source": [
    "--s. Show the age of the oldest coach of the \"Academic\" team;"
   ]
  },
  {
   "cell_type": "code",
   "execution_count": null,
   "metadata": {},
   "outputs": [],
   "source": [
    "SELECT MAX(t.age) AS OLDEST_COACH_AGE\n",
    "FROM coaches t\n",
    "INNER JOIN experiences e ON eq.team_id=e.team_id;"
   ]
  },
  {
   "cell_type": "markdown",
   "metadata": {},
   "source": [
    "--t. Show the total years of experience of Coach Antonio from the \"Academic\" team."
   ]
  },
  {
   "cell_type": "code",
   "execution_count": null,
   "metadata": {},
   "outputs": [],
   "source": [
    "SELECT t.name , SUM(e.years) AS Experience_Years\n",
    "FROM coaches t\n",
    "INNER JOIN experiences e ON t.coach_id=e.coach_id\n",
    "INNER JOIN team eq ON e.team_id=eq.team_id\n",
    "WHERE t.name LIKE 'Antonio' AND eq.name LIKE 'Academic'\n",
    "ORDER BY t.name;"
   ]
  },
  {
   "cell_type": "code",
   "execution_count": null,
   "metadata": {},
   "outputs": [],
   "source": []
  }
 ],
 "metadata": {
  "language_info": {
   "name": "python"
  },
  "orig_nbformat": 4
 },
 "nbformat": 4,
 "nbformat_minor": 2
}
